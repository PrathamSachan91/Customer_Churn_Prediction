{
  "cells": [
    {
      "cell_type": "markdown",
      "metadata": {
        "id": "KSOfxNjlGfph"
      },
      "source": [
        "**1. Importing the dependencies**"
      ]
    },
    {
      "cell_type": "code",
      "execution_count": null,
      "metadata": {
        "id": "e3s8Q6OFGqzH"
      },
      "outputs": [
        {
          "ename": "",
          "evalue": "",
          "output_type": "error",
          "traceback": [
            "\u001b[1;31mRunning cells with 'Python 3.11.2' requires the ipykernel package.\n",
            "\u001b[1;31m<a href='command:jupyter.createPythonEnvAndSelectController'>Create a Python Environment</a> with the required packages.\n",
            "\u001b[1;31mOr install 'ipykernel' using the command: 'c:/Users/prath/AppData/Local/Programs/Python/Python311/python.exe -m pip install ipykernel -U --user --force-reinstall'"
          ]
        }
      ],
      "source": [
        "import numpy as np\n",
        "import pandas as pd\n",
        "import matplotlib.pyplot as plt\n",
        "import seaborn as sns\n",
        "from sklearn.preprocessing import LabelEncoder\n",
        "from imblearn.over_sampling import SMOTE\n",
        "from sklearn.preprocessing import StandardScaler\n",
        "from sklearn.linear_model import LogisticRegression\n",
        "from sklearn.model_selection import train_test_split, cross_val_score\n",
        "from sklearn.metrics import accuracy_score, confusion_matrix, classification_report\n",
        "import pickle\n",
        "from sklearn.preprocessing import LabelEncoder, StandardScaler"
      ]
    },
    {
      "cell_type": "markdown",
      "metadata": {
        "id": "dMg01etGHvua"
      },
      "source": [
        "**2. Data Loading and Understanding**"
      ]
    },
    {
      "cell_type": "code",
      "execution_count": null,
      "metadata": {
        "id": "pKQDAvYRHuN6"
      },
      "outputs": [],
      "source": [
        "# load teh csv data to a pandas dataframe\n",
        "download_url = f\"https://drive.google.com/uc?id=1mjx6tl9MD08uYt_CPWygESL-AOt6avuh\"\n",
        "df=pd.read_csv(download_url)"
      ]
    },
    {
      "cell_type": "code",
      "execution_count": null,
      "metadata": {
        "colab": {
          "base_uri": "https://localhost:8080/"
        },
        "id": "38RRn-9JH-U5",
        "outputId": "b890d75b-a440-4cdf-ced6-2d9e99be1dc8"
      },
      "outputs": [],
      "source": [
        "df.shape"
      ]
    },
    {
      "cell_type": "code",
      "execution_count": null,
      "metadata": {
        "colab": {
          "base_uri": "https://localhost:8080/",
          "height": 206
        },
        "id": "9XpNVJlcIB-n",
        "outputId": "6ef945e3-e6ad-4a4a-882e-2d83319b51f4"
      },
      "outputs": [],
      "source": [
        "df.head()"
      ]
    },
    {
      "cell_type": "code",
      "execution_count": null,
      "metadata": {
        "id": "HdiLdzdbIIYu"
      },
      "outputs": [],
      "source": [
        "pd.set_option(\"display.max_columns\", None)"
      ]
    },
    {
      "cell_type": "code",
      "execution_count": null,
      "metadata": {
        "colab": {
          "base_uri": "https://localhost:8080/",
          "height": 112
        },
        "id": "QRldTkVLIRfg",
        "outputId": "c6b1b3cf-aaa2-4b40-f667-756c902cfbd3"
      },
      "outputs": [],
      "source": [
        "df.head(2)"
      ]
    },
    {
      "cell_type": "code",
      "execution_count": null,
      "metadata": {
        "colab": {
          "base_uri": "https://localhost:8080/"
        },
        "id": "PAzEivWzIU8c",
        "outputId": "73942a67-5d5a-4667-afba-2a98463c598d"
      },
      "outputs": [],
      "source": [
        "df.info()"
      ]
    },
    {
      "cell_type": "code",
      "execution_count": null,
      "metadata": {
        "id": "sA_oK-1DJFEK"
      },
      "outputs": [],
      "source": [
        "# dropping customerID column as this is not required for modelling\n",
        "df = df.drop(columns=[\"CustomerID\"])"
      ]
    },
    {
      "cell_type": "code",
      "execution_count": null,
      "metadata": {
        "colab": {
          "base_uri": "https://localhost:8080/",
          "height": 206
        },
        "id": "JU5Q6F92KTRz",
        "outputId": "6071d3fd-e2fc-49da-b1f9-9be1035b3c4c"
      },
      "outputs": [],
      "source": [
        "df.head()"
      ]
    },
    {
      "cell_type": "code",
      "execution_count": null,
      "metadata": {
        "colab": {
          "base_uri": "https://localhost:8080/"
        },
        "id": "zxUPY9zTKtP5",
        "outputId": "0968060e-e71a-494e-cafc-cf10185a8fee"
      },
      "outputs": [],
      "source": [
        "df.columns"
      ]
    },
    {
      "cell_type": "code",
      "execution_count": null,
      "metadata": {
        "colab": {
          "base_uri": "https://localhost:8080/"
        },
        "id": "l34hMyJMKw3D",
        "outputId": "ab754c13-3852-4fc3-db72-5f486bd6fb6b"
      },
      "outputs": [],
      "source": [
        "print(df[\"Gender\"].unique())"
      ]
    },
    {
      "cell_type": "code",
      "execution_count": null,
      "metadata": {
        "colab": {
          "base_uri": "https://localhost:8080/"
        },
        "id": "heeFR4JJKULo",
        "outputId": "bba1eed5-3a5f-4d13-d088-aa5ca2151409"
      },
      "outputs": [],
      "source": [
        "# printing the unique values in all the columns\n",
        "\n",
        "numerical_features_list = [\"Last Interaction\", \"Payment Delay\", \"Tenure\",\"Usage Frequency\",\t\"Support Calls\"]\n",
        "\n",
        "for col in df.columns:\n",
        "  if col not in numerical_features_list:\n",
        "    print(col, df[col].unique())\n",
        "    print(\"-\"*50)"
      ]
    },
    {
      "cell_type": "code",
      "execution_count": null,
      "metadata": {
        "colab": {
          "base_uri": "https://localhost:8080/"
        },
        "id": "l9lEd00ILJB4",
        "outputId": "a1e7d5cf-7dd2-462f-9dcb-660a3b4754a5"
      },
      "outputs": [],
      "source": [
        "print(df.isnull().sum())"
      ]
    },
    {
      "cell_type": "code",
      "execution_count": null,
      "metadata": {
        "colab": {
          "base_uri": "https://localhost:8080/"
        },
        "id": "JIwRHLf7L_X8",
        "outputId": "0c9ee182-cd02-49d5-a6a1-5f3382108dff"
      },
      "outputs": [],
      "source": [
        "df.fillna(method='ffill', inplace=True)"
      ]
    },
    {
      "cell_type": "code",
      "execution_count": null,
      "metadata": {
        "colab": {
          "base_uri": "https://localhost:8080/"
        },
        "id": "-8Qc7ISAQovc",
        "outputId": "e1e7430d-ac88-4092-f918-f423becd3251"
      },
      "outputs": [],
      "source": [
        "print(df.isna().sum())"
      ]
    },
    {
      "cell_type": "code",
      "execution_count": null,
      "metadata": {
        "colab": {
          "base_uri": "https://localhost:8080/",
          "height": 423
        },
        "id": "gvHFhTBRMJJt",
        "outputId": "d130f89a-fa04-410a-eb98-acea0845df8e"
      },
      "outputs": [],
      "source": [
        "df[df[\"Support Calls\"]==10.0]"
      ]
    },
    {
      "cell_type": "code",
      "execution_count": null,
      "metadata": {
        "colab": {
          "base_uri": "https://localhost:8080/"
        },
        "id": "WyXy07fSNjSy",
        "outputId": "ee155dec-3912-4fc5-c55c-a7b987190014"
      },
      "outputs": [],
      "source": [
        "df.info()"
      ]
    },
    {
      "cell_type": "code",
      "execution_count": null,
      "metadata": {
        "colab": {
          "base_uri": "https://localhost:8080/"
        },
        "id": "1_VJd8WvNkei",
        "outputId": "1c4f1d7e-69a3-4a1f-b6e7-84a3a2f054f6"
      },
      "outputs": [],
      "source": [
        "# checking the class distribution of target column\n",
        "print(df[\"Churn\"].value_counts())"
      ]
    },
    {
      "cell_type": "markdown",
      "metadata": {
        "id": "NlXtkHNYOFJa"
      },
      "source": [
        "**Insights:**\n",
        "1. Customer ID removed as it is not required for modelling\n",
        "2. No mmissing values in the dataset\n",
        "3. Missing values in the TotalCharges column were replaced with 0\n",
        "4. Class imbalance identified in the target"
      ]
    },
    {
      "cell_type": "markdown",
      "metadata": {
        "id": "2bmA7i3OOcld"
      },
      "source": [
        "**3. Exploratory Data Analysis (EDA)**"
      ]
    },
    {
      "cell_type": "code",
      "execution_count": null,
      "metadata": {
        "colab": {
          "base_uri": "https://localhost:8080/"
        },
        "id": "slxl5eMnN1z-",
        "outputId": "2bfa45f8-38ba-4463-b9fd-cb04e7cbee98"
      },
      "outputs": [],
      "source": [
        "df.shape"
      ]
    },
    {
      "cell_type": "code",
      "execution_count": null,
      "metadata": {
        "colab": {
          "base_uri": "https://localhost:8080/"
        },
        "id": "Xp3BY9TLOj3r",
        "outputId": "5af2c34b-c145-41c9-c2a0-a2e02fb8047f"
      },
      "outputs": [],
      "source": [
        "df.columns"
      ]
    },
    {
      "cell_type": "code",
      "execution_count": null,
      "metadata": {
        "colab": {
          "base_uri": "https://localhost:8080/",
          "height": 112
        },
        "id": "EM_hV4-EOlBo",
        "outputId": "94c46c25-968f-4a91-9d5e-77cab9befc2d"
      },
      "outputs": [],
      "source": [
        "df.head(2)"
      ]
    },
    {
      "cell_type": "code",
      "execution_count": null,
      "metadata": {
        "colab": {
          "base_uri": "https://localhost:8080/",
          "height": 300
        },
        "id": "Cs-Rev3AOntR",
        "outputId": "79ab5c9f-e4db-4d06-c8a3-971b67a6cbfd"
      },
      "outputs": [],
      "source": [
        "df.describe()"
      ]
    },
    {
      "cell_type": "markdown",
      "metadata": {
        "id": "vjPTz_FVPCdy"
      },
      "source": [
        "**Numerical Features - Analysis**"
      ]
    },
    {
      "cell_type": "markdown",
      "metadata": {
        "id": "el6Sna0vPH1y"
      },
      "source": [
        "Understand the distribution of teh numerical features"
      ]
    },
    {
      "cell_type": "code",
      "execution_count": null,
      "metadata": {
        "id": "GiVVdSpxOrXp"
      },
      "outputs": [],
      "source": [
        "def plot_histogram(df, column_name):\n",
        "\n",
        "  plt.figure(figsize=(5, 3))\n",
        "  sns.histplot(df[column_name], kde=True)\n",
        "  plt.title(f\"Distribution of {column_name}\")\n",
        "\n",
        "  # calculate the mean and median values for the columns\n",
        "  col_mean = df[column_name].mean()\n",
        "  col_median = df[column_name].median()\n",
        "\n",
        "  # add vertical lines for mean and median\n",
        "  plt.axvline(col_mean, color=\"red\", linestyle=\"--\", label=\"Mean\")\n",
        "  plt.axvline(col_median, color=\"green\", linestyle=\"-\", label=\"Median\")\n",
        "\n",
        "  plt.legend()\n",
        "\n",
        "  plt.show()"
      ]
    },
    {
      "cell_type": "code",
      "execution_count": null,
      "metadata": {
        "colab": {
          "base_uri": "https://localhost:8080/",
          "height": 333
        },
        "id": "C-ii594gRLiv",
        "outputId": "fe7c7192-d0f9-4601-a960-c2fee2f3bd0e"
      },
      "outputs": [],
      "source": [
        "plot_histogram(df, \"Tenure\")"
      ]
    },
    {
      "cell_type": "code",
      "execution_count": null,
      "metadata": {
        "colab": {
          "base_uri": "https://localhost:8080/",
          "height": 333
        },
        "id": "N7aTEuvKRPQ2",
        "outputId": "a417a6d3-423f-41e1-8631-ec1420e8de97"
      },
      "outputs": [],
      "source": [
        "plot_histogram(df, \"Total Spend\")"
      ]
    },
    {
      "cell_type": "code",
      "execution_count": null,
      "metadata": {
        "colab": {
          "base_uri": "https://localhost:8080/",
          "height": 333
        },
        "id": "VpgyhemIRXl1",
        "outputId": "0085e0c7-c0be-4c05-98e9-a4960fd738bf"
      },
      "outputs": [],
      "source": [
        "plot_histogram(df, \"Payment Delay\")"
      ]
    },
    {
      "cell_type": "markdown",
      "metadata": {
        "id": "dB-8XMyyR6oq"
      },
      "source": [
        "**Box plot for numerical features**"
      ]
    },
    {
      "cell_type": "code",
      "execution_count": null,
      "metadata": {
        "id": "l_UN9to_ReoI"
      },
      "outputs": [],
      "source": [
        "def plot_boxplot(df, column_name):\n",
        "\n",
        "  plt.figure(figsize=(5, 3))\n",
        "  sns.boxplot(y=df[column_name])\n",
        "  plt.title(f\"Box Plot of {column_name}\")\n",
        "  plt.ylabel(column_name)\n",
        "  plt.show"
      ]
    },
    {
      "cell_type": "code",
      "execution_count": null,
      "metadata": {
        "colab": {
          "base_uri": "https://localhost:8080/",
          "height": 295
        },
        "id": "BQm48zvRSMGj",
        "outputId": "c82a4bd7-6747-4fb3-d90c-564c5c8c411b"
      },
      "outputs": [],
      "source": [
        "plot_boxplot(df, \"Payment Delay\")"
      ]
    },
    {
      "cell_type": "code",
      "execution_count": null,
      "metadata": {
        "colab": {
          "base_uri": "https://localhost:8080/",
          "height": 295
        },
        "id": "LMG8Jj6nSObQ",
        "outputId": "322aee26-654a-43d1-baa9-3024a0c8f6fb"
      },
      "outputs": [],
      "source": [
        "plot_boxplot(df, \"Total Spend\")"
      ]
    },
    {
      "cell_type": "markdown",
      "metadata": {
        "id": "w26inWhjStai"
      },
      "source": [
        "**Correlation Heatmap for numerical columns**"
      ]
    },
    {
      "cell_type": "code",
      "execution_count": null,
      "metadata": {
        "id": "MTfZ71DlS4Lr"
      },
      "outputs": [],
      "source": [
        "df_encoded = df.copy()\n",
        "label_encoders = {}\n",
        "for col in ['Gender', 'Subscription Type', 'Contract Length']:\n",
        "    label_encoders[col] = LabelEncoder()\n",
        "    df_encoded[col] = label_encoders[col].fit_transform(df_encoded[col])"
      ]
    },
    {
      "cell_type": "code",
      "execution_count": null,
      "metadata": {
        "colab": {
          "base_uri": "https://localhost:8080/",
          "height": 653
        },
        "id": "ZB_oc-xySmu8",
        "outputId": "dca0c584-b2e7-4c12-ec0e-21aa0291f365"
      },
      "outputs": [],
      "source": [
        "# correlation matrix - heatmap\n",
        "plt.figure(figsize=(10, 6))\n",
        "sns.heatmap(df_encoded.corr(), annot=True, cmap=\"coolwarm\", linewidths=0.5)\n",
        "plt.title(\"Feature Correlation Heatmap\")\n",
        "plt.show()"
      ]
    },
    {
      "cell_type": "code",
      "execution_count": null,
      "metadata": {
        "colab": {
          "base_uri": "https://localhost:8080/",
          "height": 206
        },
        "id": "9veVnGve1s94",
        "outputId": "a47bad7c-4244-467f-94e9-26031ddde92b"
      },
      "outputs": [],
      "source": [
        "df.head()"
      ]
    },
    {
      "cell_type": "markdown",
      "metadata": {
        "id": "AWG9vYIJTw7c"
      },
      "source": [
        "Categorical features - Analysis"
      ]
    },
    {
      "cell_type": "code",
      "execution_count": null,
      "metadata": {
        "id": "va6Wbtb00blF"
      },
      "outputs": [],
      "source": [
        "df = df.drop(columns=[\"Subscription Type\"])\n",
        "df = df.drop(columns=[\"Usage Frequency\"])\n",
        "df = df.drop(columns=[\"Tenure\"])\n",
        "df = df.drop(columns=[\"Contract Length\"])"
      ]
    },
    {
      "cell_type": "code",
      "execution_count": null,
      "metadata": {
        "colab": {
          "base_uri": "https://localhost:8080/"
        },
        "id": "dZvQi2hhTNGZ",
        "outputId": "d66ceb16-d3a6-4ff4-aaa6-91271c97f897"
      },
      "outputs": [],
      "source": [
        "df.columns"
      ]
    },
    {
      "cell_type": "code",
      "execution_count": null,
      "metadata": {
        "colab": {
          "base_uri": "https://localhost:8080/"
        },
        "id": "x1371ShPXGYN",
        "outputId": "958e8af5-9966-4824-c804-243644af6cbb"
      },
      "outputs": [],
      "source": [
        "df.info()"
      ]
    },
    {
      "cell_type": "markdown",
      "metadata": {
        "id": "GqXSxa0RYRqf"
      },
      "source": [
        "**4. Data Preprocessing**"
      ]
    },
    {
      "cell_type": "code",
      "execution_count": null,
      "metadata": {
        "colab": {
          "base_uri": "https://localhost:8080/",
          "height": 143
        },
        "id": "Zv4c14nAXYUf",
        "outputId": "c2f8d00e-2678-405a-82ea-edaf221d8e2e"
      },
      "outputs": [],
      "source": [
        "df.head(3)"
      ]
    },
    {
      "cell_type": "markdown",
      "metadata": {
        "id": "ccUVS6BxYi8n"
      },
      "source": [
        "Label encoding of target column"
      ]
    },
    {
      "cell_type": "code",
      "execution_count": null,
      "metadata": {
        "id": "NhLXuP1LYZfR"
      },
      "outputs": [],
      "source": [
        "df[\"Churn\"] = df[\"Churn\"].replace({\"Yes\": 1, \"No\": 0})"
      ]
    },
    {
      "cell_type": "code",
      "execution_count": null,
      "metadata": {
        "colab": {
          "base_uri": "https://localhost:8080/",
          "height": 143
        },
        "id": "irKk7qPTYr3r",
        "outputId": "b999b790-e435-4a76-ec70-0e36f6269060"
      },
      "outputs": [],
      "source": [
        "df.head(3)"
      ]
    },
    {
      "cell_type": "code",
      "execution_count": null,
      "metadata": {
        "colab": {
          "base_uri": "https://localhost:8080/"
        },
        "id": "mcgXdTCwYsnw",
        "outputId": "dfd5c730-01ff-4fe8-dc4b-a231c8832f87"
      },
      "outputs": [],
      "source": [
        "print(df[\"Churn\"].value_counts())"
      ]
    },
    {
      "cell_type": "markdown",
      "metadata": {
        "id": "Cs3j58UWY8zJ"
      },
      "source": [
        "Label encoding of categorical fetaures"
      ]
    },
    {
      "cell_type": "code",
      "execution_count": null,
      "metadata": {
        "id": "Q3-YraKcY4oC"
      },
      "outputs": [],
      "source": [
        "# identifying columns with object data type\n",
        "object_columns = df.select_dtypes(include=\"object\").columns"
      ]
    },
    {
      "cell_type": "code",
      "execution_count": null,
      "metadata": {
        "colab": {
          "base_uri": "https://localhost:8080/"
        },
        "id": "EiFRA573ZNEy",
        "outputId": "218cf5ed-9b90-4e1e-81fd-ed7d85956f75"
      },
      "outputs": [],
      "source": [
        "print(object_columns)"
      ]
    },
    {
      "cell_type": "code",
      "execution_count": null,
      "metadata": {
        "id": "Sq6c2atrZOdu"
      },
      "outputs": [],
      "source": [
        "# initialize a dictionary to save the encoders\n",
        "encoders = {}\n",
        "\n",
        "# apply label encoding and store the encoders\n",
        "for column in object_columns:\n",
        "  label_encoder = LabelEncoder()\n",
        "  df[column] = label_encoder.fit_transform(df[column])\n",
        "  encoders[column] = label_encoder\n",
        "\n",
        "\n",
        "# save the encoders to a pickle file\n",
        "with open(\"encoders.pkl\", \"wb\") as f:\n",
        "  pickle.dump(encoders, f)\n"
      ]
    },
    {
      "cell_type": "code",
      "execution_count": null,
      "metadata": {
        "colab": {
          "base_uri": "https://localhost:8080/"
        },
        "id": "RV5ff4YVZpEQ",
        "outputId": "051797d0-9a7a-47fd-fda4-eac474925df4"
      },
      "outputs": [],
      "source": [
        "encoders"
      ]
    },
    {
      "cell_type": "code",
      "execution_count": null,
      "metadata": {
        "colab": {
          "base_uri": "https://localhost:8080/",
          "height": 206
        },
        "id": "km5wYiXAZsb0",
        "outputId": "5c1b5e5c-c1bf-4a92-84fa-c39a6617b258"
      },
      "outputs": [],
      "source": [
        "df.head()"
      ]
    },
    {
      "cell_type": "markdown",
      "metadata": {
        "id": "hEURc8NrbufR"
      },
      "source": [
        "**Traianing and test data split**"
      ]
    },
    {
      "cell_type": "code",
      "execution_count": null,
      "metadata": {
        "colab": {
          "base_uri": "https://localhost:8080/"
        },
        "id": "6oJMrCOaNXM5",
        "outputId": "dea63fc4-2971-4d72-9633-2eb05829b453"
      },
      "outputs": [],
      "source": [
        "# Selecting only numeric columns for scaling\n",
        "numeric_columns = ['Age', 'Support Calls',\n",
        "                   'Payment Delay', 'Total Spend', 'Last Interaction']  #, 'Usage Frequency' 'Tenure',\n",
        "scaler = StandardScaler()\n",
        "df[numeric_columns] = scaler.fit_transform(df[numeric_columns])\n",
        "print(df.head())\n",
        "with open(\"scaler.pkl\", \"wb\") as f:\n",
        "    pickle.dump(scaler, f)\n"
      ]
    },
    {
      "cell_type": "code",
      "execution_count": null,
      "metadata": {
        "id": "KgU9i0xuW6zl"
      },
      "outputs": [],
      "source": [
        "X, y = df.drop(columns=[\"Churn\"]), df[\"Churn\"]"
      ]
    },
    {
      "cell_type": "code",
      "execution_count": null,
      "metadata": {
        "colab": {
          "base_uri": "https://localhost:8080/"
        },
        "id": "U1_2tlHFNpeA",
        "outputId": "edb8cd25-978a-4206-89bd-5a3a4696bf18"
      },
      "outputs": [],
      "source": [
        "smote = SMOTE(sampling_strategy='auto', random_state=42)\n",
        "X_resampled, y_resampled = smote.fit_resample(X, y)\n",
        "\n",
        "# Check class distribution\n",
        "print(pd.Series(y_resampled).value_counts())"
      ]
    },
    {
      "cell_type": "code",
      "execution_count": null,
      "metadata": {
        "id": "GX46dfDmb1ir"
      },
      "outputs": [],
      "source": [
        "X_train, X_test, y_train, y_test = train_test_split(X, y, test_size=0.2, random_state=42)"
      ]
    },
    {
      "cell_type": "code",
      "execution_count": null,
      "metadata": {
        "colab": {
          "base_uri": "https://localhost:8080/"
        },
        "id": "r8WlFUOJbP7J",
        "outputId": "93f8e1e2-9cfa-4281-f149-1a424bf8c614"
      },
      "outputs": [],
      "source": [
        "print(X_train.shape,X_test.shape)"
      ]
    },
    {
      "cell_type": "code",
      "execution_count": null,
      "metadata": {
        "colab": {
          "base_uri": "https://localhost:8080/"
        },
        "id": "h675L7a0N2e2",
        "outputId": "2121ce92-9bdb-4c2b-9229-da80fa2a308c"
      },
      "outputs": [],
      "source": [
        "log_reg = LogisticRegression()\n",
        "log_reg.fit(X_train, y_train)\n",
        "\n",
        "# Predictions\n",
        "y_pred = log_reg.predict(X_test)\n",
        "\n",
        "# Evaluate Model\n",
        "accuracy = accuracy_score(y_test, y_pred)\n",
        "print(f\"Logistic Regression Accuracy: {accuracy:.2f}\")\n",
        "print(\"Confusion Matrix:\\n\", confusion_matrix(y_test, y_pred))\n",
        "print(\"Classification Report:\\n\", classification_report(y_test, y_pred))\n"
      ]
    },
    {
      "cell_type": "code",
      "execution_count": null,
      "metadata": {
        "colab": {
          "base_uri": "https://localhost:8080/",
          "height": 564
        },
        "id": "JmgxdkNVBn6p",
        "outputId": "3e6c8a4c-9723-4666-a887-624a2c8fd3c9"
      },
      "outputs": [],
      "source": [
        "from sklearn.metrics import roc_curve, auc\n",
        "import matplotlib.pyplot as plt\n",
        "\n",
        "# Predict probabilities for the test set\n",
        "y_pred_proba = log_reg.predict_proba(X_test)[:, 1]\n",
        "\n",
        "# Calculate ROC curve and AUC\n",
        "fpr, tpr, thresholds = roc_curve(y_test, y_pred_proba)\n",
        "roc_auc = auc(fpr, tpr)\n",
        "\n",
        "# Plot ROC curve\n",
        "plt.figure(figsize=(8, 6))\n",
        "plt.plot(fpr, tpr, color='blue', lw=2, label=f'ROC curve (AUC = {roc_auc:.2f})')\n",
        "plt.plot([0, 1], [0, 1], color='red', lw=2, linestyle='--', label='Random Guess')\n",
        "plt.xlabel('False Positive Rate (FPR)')\n",
        "plt.ylabel('True Positive Rate (TPR)')\n",
        "plt.title('ROC Curve for Logistic Regression')\n",
        "plt.legend(loc='lower right')\n",
        "plt.show()"
      ]
    },
    {
      "cell_type": "code",
      "execution_count": null,
      "metadata": {
        "colab": {
          "base_uri": "https://localhost:8080/",
          "height": 564
        },
        "id": "GpL5J3YKEEax",
        "outputId": "be3396ec-694a-4365-fab7-3857b69e62a3"
      },
      "outputs": [],
      "source": [
        "from sklearn.metrics import confusion_matrix\n",
        "import seaborn as sns\n",
        "import matplotlib.pyplot as plt\n",
        "\n",
        "# Assuming y_test and y_pred are your true and predicted labels\n",
        "cm = confusion_matrix(y_test, y_pred)\n",
        "\n",
        "# Plot the confusion matrix\n",
        "plt.figure(figsize=(8, 6))\n",
        "sns.heatmap(cm, annot=True, fmt='d', cmap='Blues',\n",
        "            xticklabels=['Non-Churn (0)', 'Churn (1)'],\n",
        "            yticklabels=['Non-Churn (0)', 'Churn (1)'])\n",
        "plt.xlabel('Predicted Labels')\n",
        "plt.ylabel('True Labels')\n",
        "plt.title('Confusion Matrix for Logistic Regression')\n",
        "plt.show()"
      ]
    },
    {
      "cell_type": "code",
      "execution_count": null,
      "metadata": {
        "colab": {
          "base_uri": "https://localhost:8080/"
        },
        "id": "3oKxWjiVOUsI",
        "outputId": "0af823b8-6e8b-4a5b-f4c9-559b276f020d"
      },
      "outputs": [],
      "source": [
        "from sklearn.ensemble import RandomForestClassifier\n",
        "\n",
        "rf = RandomForestClassifier(n_estimators=100, random_state=42)\n",
        "rf.fit(X_train, y_train)\n",
        "\n",
        "y_pred_rf = rf.predict(X_test)\n",
        "\n",
        "print(\"Random Forest Accuracy:\", accuracy_score(y_test, y_pred_rf))\n",
        "print(\"Confusion Matrix:\\n\", confusion_matrix(y_test, y_pred_rf))\n",
        "print(\"Classification Report:\\n\", classification_report(y_test, y_pred_rf))"
      ]
    },
    {
      "cell_type": "code",
      "execution_count": null,
      "metadata": {
        "colab": {
          "base_uri": "https://localhost:8080/"
        },
        "id": "4aoNwZWGOYiW",
        "outputId": "2c5ca47e-f0f3-4804-9bff-2e3a9fbe5919"
      },
      "outputs": [],
      "source": [
        "from xgboost import XGBClassifier\n",
        "\n",
        "xgb = XGBClassifier(use_label_encoder=False, eval_metric='logloss', random_state=42)\n",
        "xgb.fit(X_train, y_train)\n",
        "\n",
        "y_pred_xgb = xgb.predict(X_test)\n",
        "\n",
        "print(\"XGBoost Accuracy:\", accuracy_score(y_test, y_pred_xgb))\n",
        "print(\"Confusion Matrix:\\n\", confusion_matrix(y_test, y_pred_xgb))\n",
        "print(\"Classification Report:\\n\", classification_report(y_test, y_pred_xgb))"
      ]
    },
    {
      "cell_type": "code",
      "execution_count": null,
      "metadata": {
        "colab": {
          "base_uri": "https://localhost:8080/"
        },
        "id": "SX0db4f6N56B",
        "outputId": "0aa11992-e32d-4e2b-b11f-af1676da3532"
      },
      "outputs": [],
      "source": [
        "from sklearn.tree import DecisionTreeClassifier\n",
        "\n",
        "dt = DecisionTreeClassifier(random_state=42)\n",
        "dt.fit(X_train, y_train)\n",
        "\n",
        "y_pred_dt = dt.predict(X_test)\n",
        "\n",
        "print(\"Decision Tree Accuracy:\", accuracy_score(y_test, y_pred_dt))\n",
        "print(\"Confusion Matrix:\\n\", confusion_matrix(y_test, y_pred_dt))\n",
        "print(\"Classification Report:\\n\", classification_report(y_test, y_pred_dt))\n",
        "with open(\"churn_model.pkl\", \"wb\") as f:\n",
        "    pickle.dump(dt, f)"
      ]
    },
    {
      "cell_type": "code",
      "execution_count": null,
      "metadata": {
        "colab": {
          "base_uri": "https://localhost:8080/",
          "height": 658
        },
        "id": "S8jXPn8Cd5T1",
        "outputId": "3049a344-016a-4939-da3a-063c3db0bc80"
      },
      "outputs": [],
      "source": [
        "from sklearn.tree import plot_tree\n",
        "import matplotlib.pyplot as plt\n",
        "\n",
        "plt.figure(figsize=(20,10))\n",
        "plot_tree(dt,\n",
        "          feature_names=X_train.columns,\n",
        "          class_names=['No Churn', 'Churn'],\n",
        "          filled=True,\n",
        "          rounded=True,\n",
        "          max_depth=5)  # Limit depth for readability\n",
        "plt.show()"
      ]
    },
    {
      "cell_type": "code",
      "execution_count": null,
      "metadata": {
        "colab": {
          "base_uri": "https://localhost:8080/"
        },
        "id": "b7PpPlbCewnF",
        "outputId": "d5291c78-5d9f-408d-c281-abd3ff45f35f"
      },
      "outputs": [],
      "source": [
        "def get_business_rules(tree, feature_names, scaler=None):\n",
        "    \"\"\"Generate simplified business rules from the decision tree\"\"\"\n",
        "    tree_ = tree.tree_\n",
        "    feature_name = [\n",
        "        feature_names[i] if i != _tree.TREE_UNDEFINED else \"undefined!\"\n",
        "        for i in tree_.feature\n",
        "    ]\n",
        "\n",
        "    rules = []\n",
        "\n",
        "    def recurse(node, rule):\n",
        "        if tree_.feature[node] != _tree.TREE_UNDEFINED:\n",
        "            name = feature_name[node]\n",
        "            threshold = tree_.threshold[node]\n",
        "\n",
        "            # If we scaled the data, get approximate original threshold\n",
        "            if scaler:\n",
        "                try:\n",
        "                    col_idx = list(feature_names).index(name)\n",
        "                    mean = scaler.mean_[col_idx]\n",
        "                    scale = scaler.scale_[col_idx]\n",
        "                    original_threshold = threshold * scale + mean\n",
        "                except:\n",
        "                    original_threshold = threshold\n",
        "            else:\n",
        "                original_threshold = threshold\n",
        "\n",
        "            left_rule = rule + [f\"{name} ≤ {original_threshold:.2f}\"]\n",
        "            recurse(tree_.children_left[node], left_rule)\n",
        "            right_rule = rule + [f\"{name} > {original_threshold:.2f}\"]\n",
        "            recurse(tree_.children_right[node], right_rule)\n",
        "        else:\n",
        "            class_prob = tree_.value[node][0]\n",
        "            total = class_prob.sum()\n",
        "            churn_prob = class_prob[1]/total\n",
        "            if churn_prob > 0.5:  # Only show rules that lead to churn\n",
        "                rules.append({\n",
        "                    'rule': \" AND \".join(rule),\n",
        "                    'churn_probability': churn_prob\n",
        "                })\n",
        "\n",
        "    recurse(0, [])\n",
        "    return sorted(rules, key=lambda x: x['churn_probability'], reverse=True)\n",
        "\n",
        "# Get business rules (pass the scaler to get approximate original values)\n",
        "business_rules = get_business_rules(dt, X_train.columns, scaler)\n",
        "\n",
        "print(\"Top Business Rules Leading to Churn:\")\n",
        "for i, rule in enumerate(business_rules[:5], 1):\n",
        "    print(f\"\\nRule {i}: {rule['rule']}\")\n",
        "    print(f\"Churn probability: {rule['churn_probability']:.2%}\")"
      ]
    },
    {
      "cell_type": "code",
      "execution_count": null,
      "metadata": {
        "colab": {
          "base_uri": "https://localhost:8080/"
        },
        "id": "HySiXMTseiAa",
        "outputId": "0b699bbd-b739-4bbe-f7ae-fedca5015116"
      },
      "outputs": [],
      "source": [
        "import pandas as pd\n",
        "import pickle\n",
        "from sklearn.preprocessing import LabelEncoder, StandardScaler\n",
        "\n",
        "with open(\"encoders.pkl\", \"rb\") as f:\n",
        "    label_encoders = pickle.load(f)\n",
        "\n",
        "with open(\"scaler.pkl\", \"rb\") as f:\n",
        "    scaler = pickle.load(f)\n",
        "\n",
        "with open(\"churn_model.pkl\", \"rb\") as f:\n",
        "    dt = pickle.load(f)\n",
        "\n",
        "# Identify categorical and numerical columns\n",
        "categorical_cols = ['Gender']\n",
        "numerical_cols = ['Age', 'Support Calls', 'Payment Delay', 'Total Spend', 'Last Interaction']\n",
        "\n",
        "# Raw input\n",
        "custom_input = {\n",
        "    \"Age\": 30,\n",
        "    \"Gender\": \"Female\",\n",
        "    \"Support Calls\": 5,\n",
        "    \"Payment Delay\": 18,\n",
        "    \"Total Spend\": 932,\n",
        "    \"Last Interaction\": 17\n",
        "}\n",
        "\n",
        "# Encode categorical inputs using pre-trained encoders\n",
        "for col in categorical_cols:\n",
        "    custom_input[col] = label_encoders[col].transform([custom_input[col]])[0]\n",
        "\n",
        "# Convert to DataFrame\n",
        "custom_input_df = pd.DataFrame([custom_input])\n",
        "\n",
        "# Scale numerical features using pre-trained scaler\n",
        "custom_input_df[numerical_cols] = scaler.transform(custom_input_df[numerical_cols])\n",
        "\n",
        "# Ensure column order matches training data\n",
        "custom_input_df = custom_input_df[dt.feature_names_in_]\n",
        "\n",
        "# Make prediction\n",
        "predicted_churn = dt.predict(custom_input_df)[0]\n",
        "\n",
        "# Output result\n",
        "print(\"Custom Input:\", custom_input)\n",
        "print(\"Predicted Churn:\", \"Yes\" if predicted_churn == 1 else \"No\")\n"
      ]
    },
    {
      "cell_type": "code",
      "execution_count": null,
      "metadata": {
        "colab": {
          "base_uri": "https://localhost:8080/"
        },
        "id": "ixfleKZEcyMB",
        "outputId": "c0f83496-fc85-4713-e00f-5340f11f230e"
      },
      "outputs": [],
      "source": [
        "def get_retention_recommendation(customer_data, prediction):\n",
        "    \"\"\"\n",
        "    Provides retention recommendations based on customer profile and churn prediction,\n",
        "    incorporating insights from decision tree rules.\n",
        "\n",
        "    Args:\n",
        "        customer_data (dict): Dictionary containing customer's features\n",
        "        prediction (int): 1 if churn predicted, 0 otherwise\n",
        "\n",
        "    Returns:\n",
        "        dict: Dictionary containing recommendation details\n",
        "    \"\"\"\n",
        "    if prediction == 0:\n",
        "        return {\n",
        "            \"action\": \"No immediate action needed\",\n",
        "            \"message\": \"Customer is not predicted to churn. Maintain current engagement.\"\n",
        "        }\n",
        "\n",
        "    recommendations = []\n",
        "\n",
        "    # Support Calls-based recommendations (from decision tree rules)\n",
        "    if customer_data['Support Calls'] >= 8:  # High support calls indicate issues\n",
        "        if customer_data['Support Calls'] >= 15:\n",
        "            recommendations.append({\n",
        "                \"feature\": \"VIP Support\",\n",
        "                \"description\": \"Immediate escalation to senior support team with 24hr resolution SLA\",\n",
        "                \"rationale\": f\"Extremely high support calls ({customer_data['Support Calls']}) indicate serious unresolved issues\"\n",
        "            })\n",
        "        else:\n",
        "            recommendations.append({\n",
        "                \"feature\": \"Dedicated Support\",\n",
        "                \"description\": \"Assign a dedicated account manager for immediate issue resolution\",\n",
        "                \"rationale\": f\"Multiple support calls ({customer_data['Support Calls']}) suggest recurring problems\"\n",
        "            })\n",
        "\n",
        "    # Payment Delay-based recommendations (from decision tree thresholds)\n",
        "    if customer_data['Payment Delay'] > 10:\n",
        "        if customer_data['Payment Delay'] > 30:\n",
        "            recommendations.append({\n",
        "                \"feature\": \"Payment Relief\",\n",
        "                \"description\": \"Offer payment plan with first month free and reduced installments\",\n",
        "                \"rationale\": f\"Severe payment delay ({customer_data['Payment Delay']} days) indicates financial distress\"\n",
        "            })\n",
        "        else:\n",
        "            recommendations.append({\n",
        "                \"feature\": \"Payment Flexibility\",\n",
        "                \"description\": \"Waive late fees and extend due date by 2 weeks\",\n",
        "                \"rationale\": f\"Payment delay ({customer_data['Payment Delay']} days) may indicate temporary cash flow issues\"\n",
        "            })\n",
        "\n",
        "    # Total Spend-based recommendations (aligned with decision tree splits)\n",
        "    if customer_data['Total Spend'] < 1000:  # Approximate threshold from rules\n",
        "        recommendations.append({\n",
        "            \"feature\": \"Value Boost\",\n",
        "            \"description\": \"Free upgrade to premium features for 60 days\",\n",
        "            \"rationale\": f\"Mid-range spending (${customer_data['Total Spend']}) suggests opportunity to demonstrate value\"\n",
        "        })\n",
        "    else:\n",
        "        recommendations.append({\n",
        "            \"feature\": \"Elite Retention\",\n",
        "            \"description\": \"Personalized account review with executive team and custom benefits package\",\n",
        "            \"rationale\": f\"High-value customer (${customer_data['Total Spend']}) worth exceptional retention efforts\"\n",
        "        })\n",
        "\n",
        "    # Age-based recommendations (from decision tree splits)\n",
        "    if customer_data['Age'] <= 44:\n",
        "        recommendations.append({\n",
        "            \"feature\": \"Next-Gen Engagement\",\n",
        "            \"description\": \"Access to beta features and innovation community\",\n",
        "            \"rationale\": f\"Younger customer (age {customer_data['Age']}) may value cutting-edge features\"\n",
        "        })\n",
        "\n",
        "    # Last Interaction-based recommendations\n",
        "    if customer_data['Last Interaction'] > 20:  # Days since last interaction\n",
        "        recommendations.append({\n",
        "            \"feature\": \"Reactivation Campaign\",\n",
        "            \"description\": \"Personalized We want you back offer with time-sensitive benefits\",\n",
        "            \"rationale\": f\"{customer_data['Last Interaction']} days since last interaction indicates disengagement\"\n",
        "        })\n",
        "\n",
        "    # Prioritize recommendations by likely impact\n",
        "    prioritized_recommendations = sorted(\n",
        "        recommendations,\n",
        "        key=lambda x: 1 if \"Crisis\" in x[\"feature\"] else\n",
        "                      2 if \"VIP\" in x[\"feature\"] else\n",
        "                      3 if \"Payment\" in x[\"feature\"] else 4\n",
        "    )\n",
        "\n",
        "    return {\n",
        "        \"action\": \"Immediate retention action required\",\n",
        "        \"message\": f\"Customer matches {len(recommendations)} key churn indicators\",\n",
        "        \"recommendations\": prioritized_recommendations\n",
        "    }\n",
        "\n",
        "# Enhanced prediction function with better formatting\n",
        "def predict_churn_with_recommendations(custom_input):\n",
        "    \"\"\"\n",
        "    Enhanced prediction function that includes retention recommendations\n",
        "    with improved output formatting and explanation\n",
        "    \"\"\"\n",
        "    # Encode and prepare data\n",
        "    encoded_input = custom_input.copy()\n",
        "    for col in categorical_cols:\n",
        "        encoded_input[col] = label_encoders[col].transform([encoded_input[col]])[0]\n",
        "\n",
        "    custom_input_df = pd.DataFrame([encoded_input])\n",
        "    custom_input_df[numerical_cols] = scaler.transform(custom_input_df[numerical_cols])\n",
        "    custom_input_df = custom_input_df[dt.feature_names_in_]\n",
        "\n",
        "    # Make prediction with probabilities\n",
        "    predicted_churn = dt.predict(custom_input_df)[0]\n",
        "    churn_prob = dt.predict_proba(custom_input_df)[0][1]\n",
        "\n",
        "    # Get retention recommendations\n",
        "    recommendations = get_retention_recommendation(custom_input, predicted_churn)\n",
        "\n",
        "    # Prepare detailed output\n",
        "    result = {\n",
        "        \"customer_data\": custom_input,\n",
        "        \"prediction\": \"Yes\" if predicted_churn == 1 else \"No\",\n",
        "        \"churn_probability\": f\"{churn_prob:.1%}\",\n",
        "        \"retention_advice\": recommendations,\n",
        "        \"key_risk_factors\": [\n",
        "            f\"High support calls ({custom_input['Support Calls']})\" if custom_input['Support Calls'] >= 8 else None,\n",
        "            f\"Payment delay ({custom_input['Payment Delay']} days)\" if custom_input['Payment Delay'] > 10 else None,\n",
        "            f\"Recent inactivity ({custom_input['Last Interaction']} days)\" if custom_input['Last Interaction'] > 20 else None\n",
        "        ]\n",
        "    }\n",
        "    result[\"key_risk_factors\"] = [x for x in result[\"key_risk_factors\"] if x is not None]\n",
        "\n",
        "    return result\n",
        "\n",
        "# Example usage with enhanced output\n",
        "sample_customer = {\n",
        "    \"Age\": 30,\n",
        "    \"Gender\": \"Female\",\n",
        "    \"Support Calls\": 5,\n",
        "    \"Payment Delay\": 18,\n",
        "    \"Total Spend\": 932,\n",
        "    \"Last Interaction\": 17\n",
        "}\n",
        "\n",
        "result = predict_churn_with_recommendations(sample_customer)\n",
        "\n",
        "# Improved output formatting\n",
        "print(\"\\n🚀 Customer Churn Analysis Report\")\n",
        "print(\"=\"*60)\n",
        "print(f\"\\n🔍 Customer Profile:\")\n",
        "for k, v in result['customer_data'].items():\n",
        "    print(f\"  - {k}: {v}\")\n",
        "\n",
        "print(f\"\\n⚠️ Churn Prediction: {result['prediction']} (Probability: {result['churn_probability']})\")\n",
        "\n",
        "if result['prediction'] == \"Yes\":\n",
        "    print(\"\\n🔑 Key Risk Factors Identified:\")\n",
        "    for factor in result['key_risk_factors']:\n",
        "        print(f\"  - {factor}\")\n",
        "\n",
        "    print(\"\\n🛡️ Recommended Retention Actions:\")\n",
        "    for i, rec in enumerate(result['retention_advice']['recommendations'], 1):\n",
        "        print(f\"\\n{i}. {rec['feature']}\")\n",
        "        print(f\"   💡 Offer: {rec['description']}\")\n",
        "        print(f\"   📊 Rationale: {rec['rationale']}\")\n",
        "\n",
        "    print(\"\\n\" + \"=\"*60)\n",
        "    print(f\"💼 Business Impact: {result['retention_advice']['message']}\")\n",
        "    print(f\"🚨 Action Required: {result['retention_advice']['action']}\")"
      ]
    }
  ],
  "metadata": {
    "colab": {
      "provenance": []
    },
    "kernelspec": {
      "display_name": "Python 3",
      "name": "python3"
    },
    "language_info": {
      "name": "python",
      "version": "3.11.2"
    }
  },
  "nbformat": 4,
  "nbformat_minor": 0
}
